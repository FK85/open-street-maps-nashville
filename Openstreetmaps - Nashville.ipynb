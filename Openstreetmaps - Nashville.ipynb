{
 "cells": [
  {
   "cell_type": "markdown",
   "metadata": {},
   "source": [
    "# Open Street Maps - Nashville"
   ]
  },
  {
   "cell_type": "markdown",
   "metadata": {},
   "source": [
    "### Index:\n",
    "\n",
    "1. Map Area\n",
    "2. Problems\n",
    "3. Data Overview\n",
    "4. User Overview\n",
    "5. Top 10 - cities by count\n",
    "6. Top 10 amenities\n",
    "7. Top 10 cuisines\n",
    "8. Top 10 sources of data\n",
    "9. Top 10 natural areas\n",
    "10. Additional Ideas\n",
    "11. Sources"
   ]
  },
  {
   "cell_type": "markdown",
   "metadata": {},
   "source": [
    "### Map Area\n",
    "\n",
    "Nashville, TN, United States\n",
    "\n",
    "https://mapzen.com/data/metro-extracts/metro/nashville_tennessee/\n",
    "\n",
    "I lived in Nashville for 5 years and I was curious to see what database querying reveals."
   ]
  },
  {
   "cell_type": "markdown",
   "metadata": {},
   "source": [
    "### Problems:\n",
    "\n",
    "1. A lot of street names are not identified by the right key: \"street\", rather are just marked with the key: \"name\"\n",
    "2. Streets types are abbreviated (\"E Main St\" instead of \"E Main Street\") \n",
    "3. Some of the streets are only listed in three seperate segments: name_direction_prefix, name_base, name_type (W, End, Ave)\n",
    "4. Some postcodes have the state name abbreviated (TN 30307)\n",
    "5. Some postcodes are longer than 5 digits (37207-4405)\n",
    "6. Some house numbers have street names as well (417 Woodland St)\n",
    "7. Some city names have the state or county name in them (\"Gallatin, TN\", \"Nashville-Davidson\")"
   ]
  },
  {
   "cell_type": "markdown",
   "metadata": {},
   "source": [
    "#### Problem 1: Street names not identified by the key \"street\"\n",
    "\n",
    "Since most streets were under the key:\"name\", I had to find a way to isolate the street names from other names. \n",
    "1. I created a list of all possible street types appearing in the data set under the list \"streets\"\n",
    "2. If the name contains the street type anywhere in the string, it is considered for the next step\n",
    "3. Next step is to check if the last word is a string type (Washington St.) or the street direction (Washingtion St. N)\n",
    "4. If yes, then I assign this tag the key:\"street\" and type:\"addr\""
   ]
  },
  {
   "cell_type": "code",
   "execution_count": null,
   "metadata": {
    "collapsed": true
   },
   "outputs": [],
   "source": [
    "streets = [\"Street\", \"St\", \"St.\", \"Avenue\", \"Ave\", \"Boulevard\", \"Blvd\", \"Drive\", \"Dr\", \"Court\", \"Ct\", \"Place\",\n",
    "           \"Lane\", \"Ln\", \"Road\", \"Rd\", \"Run\", \"spur\", \"Path\", \"Trail\", \"Parkway\", \"Pky\", \"Pkwy\", \"Commons\", \"Pike\",\n",
    "           \"Pik\", \"Alley\", \"Pl\", \"Way\", \"Terrace\", \"Circle\", \"Row\", \"Cv\", \"Tcre\", \"Loop\", \"Hwy\", \"Br\", \"Xing\", \"Plz\",\n",
    "           \"Byp\", \"Pass\", \"Walk\", \"Cres\", \"Ter\"]\n",
    "street_direction = [\"North\", \"N\", \"South\", \"S\", \"East\", \"E\", \"West\", \"W\"]\n",
    "\n",
    "street_last = re.compile(r'\\S+\\.?$', re.IGNORECASE)\n",
    "streets_re = re.compile(r'\\b(?:%s)\\b' % '|'.join(streets))\n",
    "\n",
    "\n",
    "if way_tags_dict['key'] == 'name':\n",
    "                    if streets_re.search(way_tags_dict['value']):   # Check the value contains one of the street type\n",
    "                        m = street_last.search(way_tags_dict['value'])\n",
    "                        if m.group() in streets or m.group() in street_direction:# Check if the last word is a street type\n",
    "                            way_tags_dict['key'] = 'street'\n",
    "                            way_tags_dict['type'] = 'addr'"
   ]
  },
  {
   "cell_type": "markdown",
   "metadata": {},
   "source": [
    "#### Problem 2: Street types are abbreviated\n",
    "\n",
    "1. Created a mapping of abbreviated street types and the full street type\n",
    "2. Created a function update_name to replace the abbreviated street type with the full street type"
   ]
  },
  {
   "cell_type": "code",
   "execution_count": null,
   "metadata": {
    "collapsed": true
   },
   "outputs": [],
   "source": [
    "mapping = { \"St\": \"Street\",\n",
    "            \"St.\": \"Street\",\n",
    "            \"Ave\": \"Avenue\",\n",
    "            \"Rd.\": \"Road\",\n",
    "            \"Rd\": \"Road\",\n",
    "            \"Pky\": \"Parkway\",\n",
    "            \"Pkwy\": \"Parkway\",\n",
    "            \"Pl\": \"Place\",\n",
    "            \"Dr\": \"Drive\",\n",
    "            \"Ct\": \"Court\",\n",
    "            \"Pik\": \"Pike\",\n",
    "            \"Blvd\": \"Boulevard\",\n",
    "            \"Cv\": \"Cove\",\n",
    "            \"Trce\": \"Trace\",\n",
    "            \"Hwy\": \"Highway\",\n",
    "            \"Br\": \"Branch\",\n",
    "            \"Ln\": \"Lane\",\n",
    "            \"Xing\": \"Crossing\",\n",
    "            \"Plz\": \"Plaza\",\n",
    "            \"Byp\": \"Bypass\",\n",
    "            \"Cres\": \"Crescent\",\n",
    "            \"Ter\": \"Terrace\"\n",
    "            }\n",
    "\n",
    "\n",
    "def update_name(name):\n",
    "\n",
    "    m = street_last.search(name)\n",
    "    if m.group() in mapping.keys():\n",
    "        name = name.replace(m.group(),mapping[m.group()])\n",
    "\n",
    "    return name"
   ]
  },
  {
   "cell_type": "markdown",
   "metadata": {},
   "source": [
    "#### Problem 3: Street listed only in three seperate segments\n",
    "\n",
    "These seperate segments were only needed if the street name was not found in a tag\n",
    "1. If the whole street name was found in a tag, I created a flag to indicate that the street name is found\n",
    "2. If the street_found flag is set, no need to look at the segments name_base, name_type, name_direction_prefix\n",
    "3. If the whole street name is not available, look up to see if the name_type is in streets\n",
    "4. If yes, create a new street name by contatenating the name_direction_prefix, name_base, name_type"
   ]
  },
  {
   "cell_type": "code",
   "execution_count": null,
   "metadata": {
    "collapsed": true
   },
   "outputs": [],
   "source": [
    "        if street_found:\n",
    "            pass\n",
    "        else:           # If there are any streets which are only available in the key:name_base/name_type\n",
    "            if street_base: # If street base name is available\n",
    "                if street_type in streets: # If street type is one of the valid street types\n",
    "                    way_tags_dict['id'] = element.attrib['id']\n",
    "                    way_tags_dict['key'] = 'street'\n",
    "                    way_tags_dict['type'] = 'addr'\n",
    "\n",
    "                    if street_dir:                                      # If street direction is available\n",
    "                        way_tags_dict['value'] = street_dir + ' ' + street_base + ' ' + street_type\n",
    "                    else:\n",
    "                        way_tags_dict['value'] = street_base + ' ' + street_type\n",
    "\n",
    "                    way_tags_dict['value'] = update_name(way_tags_dict['value'])"
   ]
  },
  {
   "cell_type": "markdown",
   "metadata": {},
   "source": [
    "#### Problem 4/5/6: Postal codes with state names and House numbers with street names\n",
    "\n",
    "1. The postal code and house number should not contain any character other than number or \"-\"\n",
    "2. \"-\" needs to be allowed for postal codes like 37076-8885 and for house numbers like 401-409\n",
    "3. Wrote a regex function to do this"
   ]
  },
  {
   "cell_type": "code",
   "execution_count": null,
   "metadata": {
    "collapsed": true
   },
   "outputs": [],
   "source": [
    "            if way_tags_dict['key'] in ('postcode','housenumber'):\n",
    "                # Extract number-number and exclude other characters (like state = 'TN 30307' or housenumber = '417 Woodland St')\n",
    "                if re.findall(r'\\d+-\\d+|\\d+',way_tags_dict['value']):\n",
    "                    way_tags_dict['value'] = re.findall(r'\\d+-\\d+|\\d+',way_tags_dict['value'])[0]"
   ]
  },
  {
   "cell_type": "markdown",
   "metadata": {},
   "source": [
    "#### Problem 7: City names with the state name or the county name\n",
    "\n",
    "1. The city name should not contain the state name (Gallatin, TN) or the county name (Nashville-Davidson)\n",
    "2. Wrote a regex function to split the string using alphabets and space ['Gallatin', 'TN']\n",
    "3. Picket the first part of the list as the city name ('Gallatin')\n",
    "4. Used an or condition in the regex to first look for cities with more than one word, and then look for cities with one word"
   ]
  },
  {
   "cell_type": "code",
   "execution_count": null,
   "metadata": {
    "collapsed": true
   },
   "outputs": [],
   "source": [
    "            if way_tags_dict['key'] == 'city':\n",
    "                if re.findall(r'\\w+\\s\\w+|\\w+', way_tags_dict['value']):\n",
    "                    way_tags_dict['value'] = re.findall(r'\\w+\\s\\w+|\\w+', way_tags_dict['value'])[0]"
   ]
  },
  {
   "cell_type": "markdown",
   "metadata": {},
   "source": [
    "### Data Overview\n",
    "\n",
    "This section contains basic statistics about the dataset\n",
    "\n",
    "#### File Size\n",
    "\n",
    "1. nashville_tennessee.osm..........290 MB\n",
    "2. openstreetmaps.db................170 MB\n",
    "3. nodes.csv..............................109 MB\n",
    "4. nodes_tags.csv.........................4.89 MB\n",
    "5. ways.csv...............................8.17 MB\n",
    "6. ways_nodes.csv.........................36.12 MB\n",
    "7. ways_tags.csv...........................26.8 MB\n",
    "\n",
    "#### Number of nodes\n",
    "\n",
    "sqlite> SELECT COUNT(*) FROM nodes;\n",
    "1360861\n",
    "\n",
    "#### Number of ways\n",
    "\n",
    "sqlite> SELECT COUNT(*) FROM ways;\n",
    "141343"
   ]
  },
  {
   "cell_type": "markdown",
   "metadata": {},
   "source": [
    "### User Overview"
   ]
  },
  {
   "cell_type": "markdown",
   "metadata": {},
   "source": [
    "#### Top 10 contributing users"
   ]
  },
  {
   "cell_type": "code",
   "execution_count": null,
   "metadata": {
    "collapsed": true
   },
   "outputs": [],
   "source": [
    "SELECT A.user,COUNT(*) as num\n",
    "FROM (SELECT user FROM nodes UNION ALL SELECT user FROM ways) A\n",
    "GROUP BY A.user\n",
    "ORDER BY num DESC\n",
    "LIMIT 10;\n",
    "\n",
    "woodpeck_fixbot,273147\n",
    "\"Shawn Noble\",178065\n",
    "st1974,96254\n",
    "AndrewSnow,57234\n",
    "Rub21,53110\n",
    "TIGERcnl,52374\n",
    "StevenTN,29495\n",
    "maxerickson,28553\n",
    "darksurge,27541"
   ]
  },
  {
   "cell_type": "markdown",
   "metadata": {},
   "source": [
    "Total Contribution by top 10 contributors:"
   ]
  },
  {
   "cell_type": "code",
   "execution_count": null,
   "metadata": {
    "collapsed": true
   },
   "outputs": [],
   "source": [
    "select sum(num)\n",
    "from (SELECT A.user,COUNT(*) as num\n",
    "FROM (SELECT user FROM nodes UNION ALL SELECT user FROM ways) A\n",
    "GROUP BY A.user\n",
    "ORDER BY num DESC\n",
    "LIMIT 10) B;\n",
    "\n",
    "822379"
   ]
  },
  {
   "cell_type": "markdown",
   "metadata": {},
   "source": [
    "#### Total Contributors"
   ]
  },
  {
   "cell_type": "code",
   "execution_count": null,
   "metadata": {
    "collapsed": true
   },
   "outputs": [],
   "source": [
    "SELECT count(distinct A.user) as num\n",
    "     FROM (SELECT user FROM nodes UNION ALL SELECT user FROM ways) A;\n",
    "    \n",
    "1101"
   ]
  },
  {
   "cell_type": "markdown",
   "metadata": {},
   "source": [
    "Total contributions:"
   ]
  },
  {
   "cell_type": "code",
   "execution_count": null,
   "metadata": {
    "collapsed": true
   },
   "outputs": [],
   "source": [
    "SELECT count(*) as num\n",
    "     FROM (SELECT user FROM nodes UNION ALL SELECT user FROM ways) A;\n",
    "    \n",
    "1502204"
   ]
  },
  {
   "cell_type": "markdown",
   "metadata": {},
   "source": [
    "#### One time contributors"
   ]
  },
  {
   "cell_type": "code",
   "execution_count": null,
   "metadata": {
    "collapsed": true
   },
   "outputs": [],
   "source": [
    "SELECT COUNT(*) \n",
    "FROM\n",
    "    (SELECT A.user, COUNT(*) as num\n",
    "     FROM (SELECT user FROM nodes UNION ALL SELECT user FROM ways) A\n",
    "     GROUP BY A.user\n",
    "     HAVING num=1)  B;\n",
    "\n",
    "190"
   ]
  },
  {
   "cell_type": "markdown",
   "metadata": {},
   "source": [
    "### User Summary:\n",
    "\n",
    "1. Around 55% of the total contribution came from the top 10 users\n",
    "2. Around 17% of the users are one time contributors"
   ]
  },
  {
   "cell_type": "markdown",
   "metadata": {},
   "source": [
    "### Top 10 cities by count"
   ]
  },
  {
   "cell_type": "code",
   "execution_count": null,
   "metadata": {
    "collapsed": true
   },
   "outputs": [],
   "source": [
    "SELECT UPPER(tags.value), COUNT(*) as count \n",
    "FROM (SELECT * FROM nodes_tags UNION ALL \n",
    "      SELECT * FROM ways_tags) tags\n",
    "WHERE UPPER(tags.key) = 'CITY'\n",
    "GROUP BY UPPER(tags.value)\n",
    "ORDER BY count DESC\n",
    "LIMIT 10;\n",
    "\n",
    "CLARKSVILLE,10425\n",
    "FRANKLIN,559\n",
    "\"SPRING HILL\",387\n",
    "NASHVILLE,330\n",
    "MURFREESBORO,269\n",
    "BRENTWOOD,225\n",
    "HERMITAGE,43\n",
    "COLUMBIA,35\n",
    "NOLENSVILLE,17\n",
    "SPRINGFIELD,16"
   ]
  },
  {
   "cell_type": "markdown",
   "metadata": {},
   "source": [
    "The metro extract for Nashville includes several surrounding cities and not just the Nashville metro"
   ]
  },
  {
   "cell_type": "markdown",
   "metadata": {},
   "source": [
    "### Top 10 postal codes"
   ]
  },
  {
   "cell_type": "code",
   "execution_count": null,
   "metadata": {
    "collapsed": true
   },
   "outputs": [],
   "source": [
    "SELECT tags.value, COUNT(*) as count \n",
    "FROM (SELECT * FROM nodes_tags \n",
    "\t  UNION ALL \n",
    "      SELECT * FROM ways_tags) tags\n",
    "WHERE tags.key='postcode'\n",
    "GROUP BY tags.value\n",
    "ORDER BY count DESC\n",
    "LIMIT 10;\n",
    "\n",
    "37042,9950\n",
    "37064,538\n",
    "37040,445\n",
    "37027,239\n",
    "37129,231\n",
    "37211,122\n",
    "37174,101\n",
    "37203,76\n",
    "38401,56\n",
    "37076,44"
   ]
  },
  {
   "cell_type": "markdown",
   "metadata": {},
   "source": [
    "The postal code (37042) with the highest frequency does belong to the city with the highest frequency (Clarksville)"
   ]
  },
  {
   "cell_type": "markdown",
   "metadata": {},
   "source": [
    "### Top 10 amenities"
   ]
  },
  {
   "cell_type": "code",
   "execution_count": null,
   "metadata": {
    "collapsed": true
   },
   "outputs": [],
   "source": [
    "SELECT tags.value,count(*) as num\n",
    "FROM (SELECT * FROM nodes_tags UNION ALL \n",
    "      SELECT * FROM ways_tags) tags\n",
    "WHERE tags.key = 'amenity'\n",
    "group by tags.value\n",
    "order by num desc\n",
    "limit 10;\n",
    "\n",
    "grave_yard,3483\n",
    "place_of_worship,2519\n",
    "parking,1703\n",
    "school,1479\n",
    "restaurant,394\n",
    "fast_food,292\n",
    "parking_space,236\n",
    "fuel,185\n",
    "post_office,115\n",
    "bank,102"
   ]
  },
  {
   "cell_type": "markdown",
   "metadata": {},
   "source": [
    "Surprised to learn that graveyard is the number 1 amenity!"
   ]
  },
  {
   "cell_type": "markdown",
   "metadata": {},
   "source": [
    "### Top 10 cuisines"
   ]
  },
  {
   "cell_type": "code",
   "execution_count": null,
   "metadata": {
    "collapsed": true
   },
   "outputs": [],
   "source": [
    "SELECT tags.value,count(*) as num\n",
    "FROM (SELECT * FROM nodes_tags UNION ALL \n",
    "      SELECT * FROM ways_tags) tags\n",
    "WHERE tags.key = 'cuisine'\n",
    "group by tags.value\n",
    "order by num desc\n",
    "limit 10;\n",
    "\n",
    "burger,99\n",
    "mexican,65\n",
    "sandwich,31\n",
    "american,28\n",
    "coffee_shop,26\n",
    "pizza,23\n",
    "chicken,19\n",
    "ice_cream,14\n",
    "japanese,13\n",
    "regional,13"
   ]
  },
  {
   "cell_type": "markdown",
   "metadata": {},
   "source": [
    "### Top 10 sources of data"
   ]
  },
  {
   "cell_type": "code",
   "execution_count": null,
   "metadata": {
    "collapsed": true
   },
   "outputs": [],
   "source": [
    "SELECT tags.value,count(*) as num\n",
    "FROM (SELECT * FROM nodes_tags UNION ALL \n",
    "      SELECT * FROM ways_tags) tags\n",
    "where tags.key = 'source'\n",
    "group by tags.value\n",
    "order by num desc\n",
    "limit 10;\n",
    "\n",
    "tiger_import_dch_v0.6_20070829,15175\n",
    "Bing,3655\n",
    "county_import_v0.1,932\n",
    "bing,555\n",
    "\"TIGER/Line┬« 2008 Place Shapefiles (http://www.census.gov/geo/www/tiger/)\",402\n",
    "\"USGS Geonames\",314\n",
    "Yahoo,198\n",
    "tiger_import_dch_v0.6_20070813,85\n",
    "tiger_import_dch_v0.6_20070812,79\n",
    "http://www.tdot.state.tn.us/sr840s/,64"
   ]
  },
  {
   "cell_type": "markdown",
   "metadata": {},
   "source": [
    "In the top 10 sources we see a public and private partnership.\n",
    "\n",
    "1. Public : (Tiger which is part of the US Dept of Commerce, tdot - tennessee dept of transportation, USGS - US Board of Geographic Names)\n",
    "2. Private : Yahoo, Bing"
   ]
  },
  {
   "cell_type": "markdown",
   "metadata": {},
   "source": [
    "### Top 10 natural areas"
   ]
  },
  {
   "cell_type": "code",
   "execution_count": null,
   "metadata": {
    "collapsed": true
   },
   "outputs": [],
   "source": [
    "SELECT tags.value,count(*) as num\n",
    "FROM (SELECT * FROM nodes_tags UNION ALL \n",
    "      SELECT * FROM ways_tags) tags\n",
    "where tags.key = 'natural'\n",
    "group by tags.value\n",
    "order by num desc\n",
    "limit 10;\n",
    "\n",
    "tree,734\n",
    "water,636\n",
    "peak,300\n",
    "wood,271\n",
    "sand,89\n",
    "cliff,66\n",
    "tree_row,64\n",
    "grassland,28\n",
    "wetland,11\n",
    "beach,4"
   ]
  },
  {
   "cell_type": "markdown",
   "metadata": {},
   "source": [
    "I was curious to see \"beach\" in Tennessee so I decided to explore this a bit more"
   ]
  },
  {
   "cell_type": "code",
   "execution_count": null,
   "metadata": {
    "collapsed": true
   },
   "outputs": [],
   "source": [
    "select * \n",
    "FROM (SELECT * FROM nodes_tags UNION ALL \n",
    "      SELECT * FROM ways_tags) tags\n",
    "where tags.id in \n",
    "(SELECT tags.id\n",
    "FROM (SELECT * FROM nodes_tags UNION ALL \n",
    "      SELECT * FROM ways_tags) tags\n",
    "where tags.value = 'beach');\n",
    "\n",
    "56851418,ele,149,\"regular\n",
    "56851418,name,\"Long Island Beach (historical)\",\"regular\n",
    "56851418,natural,beach,\"regular\n",
    "56851418,created,03/01/1990,\"gnis\n",
    "56851418,state_id,47,\"gnis\n",
    "56851418,county_id,037,\"gnis\n",
    "56851418,feature_id,1313463,\"gnis\n",
    "56851423,ele,149,\"regular\n",
    "56851423,name,\"Willow Beach (historical)\",\"regular\n",
    "56851423,natural,beach,\"regular\n",
    "56851423,created,03/01/1990,\"gnis\n",
    "56851423,state_id,47,\"gnis\n",
    "56851423,county_id,037,\"gnis\n",
    "56851423,feature_id,1313508,\"gnis\n",
    "964890374,access,public,\"regular\n",
    "964890374,name,\"Swimming Area\",\"regular\n",
    "964890374,natural,beach,\"regular\n",
    "964890374,surface,sand,\"regular\n",
    "37524225,natural,beach,\"regular\n",
    "37524225,surface,sand,\"regular"
   ]
  },
  {
   "cell_type": "markdown",
   "metadata": {},
   "source": [
    "Found two names: Long Island Beach and Willow Beach. Turns out that these are beaches on the Percy Priest Lake, very close to my where I live"
   ]
  },
  {
   "cell_type": "markdown",
   "metadata": {},
   "source": [
    "### Additional Ideas"
   ]
  },
  {
   "cell_type": "markdown",
   "metadata": {},
   "source": [
    "### Data cleaning\n",
    "\n",
    "State names are not consistent and can be cleaned by creating a mapping of names just like street names"
   ]
  },
  {
   "cell_type": "code",
   "execution_count": null,
   "metadata": {
    "collapsed": true
   },
   "outputs": [],
   "source": [
    "SELECT tags.value,count(*) as num\n",
    "FROM (SELECT * FROM nodes_tags UNION ALL \n",
    "      SELECT * FROM ways_tags) tags\n",
    "where tags.key = 'state'\n",
    "group by tags.value\n",
    "order by num desc\n",
    "limit 50;\n",
    "\n",
    "TN,11992\n",
    "Tennessee,14\n",
    "KY,8\n",
    "tn,7\n",
    "Tenessee,2\n",
    "TB,1\n",
    "Tn,1\n",
    "tN,1"
   ]
  },
  {
   "cell_type": "markdown",
   "metadata": {},
   "source": [
    "Benefit: This will improve accuracy of any analysis done by state on the openstreetmaps data. Example: finding population by state for all states. If we have consistent state names, we will have just one row for wach state.\n",
    "\n",
    "Challenges: The current data needs to be analyzed for state names. All exceptions need to be found and entered in the mapping dictionary. The code needs to be run for the area in which clean up needs to be performed."
   ]
  },
  {
   "cell_type": "markdown",
   "metadata": {},
   "source": [
    "### Improve data collection:\n",
    "\n",
    "If we don't want to depend on private companies to have streetmap data, it is essential to educate and incentivize people to contribute data to an open source public platform like openstreetmaps. One way to do it would be to partner with public schools and teach high school students the importance of openstreetmaps and teach them how to contribute to the openstreetmaps. It could be one of their assignments.\n",
    "\n",
    "Benefits: This will encourage a discussion among the students and their families about the importance of publicly owned street data. Some of the students might go on to become life long contributors. A lot of additional data can be captured if this can be done in schools across states.\n",
    "\n",
    "Challenges: It would be hard for the openstreet community to convince the public schools to include openstreetmaps contribution as an assignment in their course work. It would also be challenging to get students interested about contributing to openstreetmaps. But if done, this can really help in improving data in openstreetmaps while allowing students contribute to the community."
   ]
  },
  {
   "cell_type": "markdown",
   "metadata": {},
   "source": [
    "### Sources:\n",
    "\n",
    "1. Types of streets: https://np.reddit.com/r/explainlikeimfive/comments/2me7l2/eli5_whats_the_difference_between_an_ave_rd_st_ln/cm3dn3j/?context=3\n",
    "2. Regular expression documentation: https://docs.python.org/2/library/re.html\n",
    "3. Regex Training: https://www.youtube.com/watch?v=DRR9fOXkfRE\n",
    "4. Sample project: https://gist.github.com/FK85/5f0216b494bf171dc43144afcadc4d89\n",
    "5. Calculate distance using lat lon: https://stackoverflow.com/questions/27928/calculate-distance-between-two-latitude-longitude-points-haversine-formula"
   ]
  }
 ],
 "metadata": {
  "kernelspec": {
   "display_name": "Python [conda root]",
   "language": "python",
   "name": "conda-root-py"
  },
  "language_info": {
   "codemirror_mode": {
    "name": "ipython",
    "version": 2
   },
   "file_extension": ".py",
   "mimetype": "text/x-python",
   "name": "python",
   "nbconvert_exporter": "python",
   "pygments_lexer": "ipython2",
   "version": "2.7.12"
  }
 },
 "nbformat": 4,
 "nbformat_minor": 2
}
